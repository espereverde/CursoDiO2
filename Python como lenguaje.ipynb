{
 "cells": [
  {
   "cell_type": "markdown",
   "metadata": {},
   "source": [
    "# Python como lenguaje de programación\n",
    "--------------------------------------------------------------"
   ]
  },
  {
   "cell_type": "markdown",
   "metadata": {},
   "source": [
    "## Introducción\n",
    "\n",
    "En este capitulo vamos a explorar las particularidad de Python a la hora de  de escribir código.\n",
    "\n",
    "Teniendo en cuenta que ya sabemos programar, no haremos una revisión exhaustiva de todos los elementos del lenguaje. Vamos a destacar aquellos propios de Python y, en particular, los que puedan llevar a error por su aparente similitud con otros lenguajes.\n",
    "\n",
    "Para una visión mucho más extensa de este tema recomiendo visitar el [Tutorial oficial de Python3](https://docs.python.org/3/tutorial/)"
   ]
  },
  {
   "cell_type": "markdown",
   "metadata": {},
   "source": [
    "## Variables / tipos\n",
    "\n",
    "### Tipado\n",
    "Python es un lenguaje de programación de tipado dinámico:\n",
    " - No tenemos que especificar el tipo de las variables.\n",
    " - Una variable puede almacenar distintos tipos de valores en distintos momentos."
   ]
  },
  {
   "cell_type": "code",
   "execution_count": 15,
   "metadata": {},
   "outputs": [
    {
     "name": "stdout",
     "output_type": "stream",
     "text": [
      "1 <class 'int'>\n",
      "foo <class 'str'>\n"
     ]
    }
   ],
   "source": [
    "a = 1\n",
    "print(a, type(a))\n",
    "a = 'foo'\n",
    "print(a,type(a))"
   ]
  },
  {
   "cell_type": "markdown",
   "metadata": {},
   "source": [
    "A su vez, tambien tiene tipado fuerte:\n",
    " - Si un dato es de un tipo concreto no se puede usar como si fuera de otro tipo"
   ]
  },
  {
   "cell_type": "code",
   "execution_count": 14,
   "metadata": {},
   "outputs": [
    {
     "name": "stdout",
     "output_type": "stream",
     "text": [
      "food\n"
     ]
    },
    {
     "ename": "TypeError",
     "evalue": "must be str, not int",
     "output_type": "error",
     "traceback": [
      "\u001b[1;31m---------------------------------------------------------------------------\u001b[0m",
      "\u001b[1;31mTypeError\u001b[0m                                 Traceback (most recent call last)",
      "\u001b[1;32m<ipython-input-14-ab2d7304e72f>\u001b[0m in \u001b[0;36m<module>\u001b[1;34m\u001b[0m\n\u001b[0;32m      2\u001b[0m \u001b[0mb\u001b[0m \u001b[1;33m=\u001b[0m \u001b[1;36m100\u001b[0m\u001b[1;33m\u001b[0m\u001b[1;33m\u001b[0m\u001b[0m\n\u001b[0;32m      3\u001b[0m \u001b[0mprint\u001b[0m\u001b[1;33m(\u001b[0m\u001b[0ma\u001b[0m\u001b[1;33m+\u001b[0m\u001b[0mchr\u001b[0m\u001b[1;33m(\u001b[0m\u001b[0mb\u001b[0m\u001b[1;33m)\u001b[0m\u001b[1;33m)\u001b[0m\u001b[1;33m\u001b[0m\u001b[1;33m\u001b[0m\u001b[0m\n\u001b[1;32m----> 4\u001b[1;33m \u001b[0mprint\u001b[0m\u001b[1;33m(\u001b[0m\u001b[0ma\u001b[0m\u001b[1;33m+\u001b[0m\u001b[0mb\u001b[0m\u001b[1;33m)\u001b[0m\u001b[1;33m\u001b[0m\u001b[1;33m\u001b[0m\u001b[0m\n\u001b[0m",
      "\u001b[1;31mTypeError\u001b[0m: must be str, not int"
     ]
    }
   ],
   "source": [
    "a = 'foo'\n",
    "b = 100\n",
    "print(a+chr(b))\n",
    "print(a+b)\n"
   ]
  },
  {
   "cell_type": "markdown",
   "metadata": {},
   "source": [
    "### None y del\n",
    "_None_ es el único valor del tipo NoneType:\n",
    " - Representa una variable que no ha sido inicializada\n",
    " - Similar a puntero _NULL_\n",
    " - Una variable a _None_ no es lo mismo que una variable no definida"
   ]
  },
  {
   "cell_type": "code",
   "execution_count": 17,
   "metadata": {},
   "outputs": [
    {
     "name": "stdout",
     "output_type": "stream",
     "text": [
      "None <class 'NoneType'>\n"
     ]
    },
    {
     "ename": "NameError",
     "evalue": "name 'c' is not defined",
     "output_type": "error",
     "traceback": [
      "\u001b[1;31m---------------------------------------------------------------------------\u001b[0m",
      "\u001b[1;31mNameError\u001b[0m                                 Traceback (most recent call last)",
      "\u001b[1;32m<ipython-input-17-786ab7aa24f3>\u001b[0m in \u001b[0;36m<module>\u001b[1;34m\u001b[0m\n\u001b[0;32m      1\u001b[0m \u001b[0ma\u001b[0m \u001b[1;33m=\u001b[0m \u001b[1;32mNone\u001b[0m\u001b[1;33m\u001b[0m\u001b[1;33m\u001b[0m\u001b[0m\n\u001b[0;32m      2\u001b[0m \u001b[0mprint\u001b[0m\u001b[1;33m(\u001b[0m\u001b[0ma\u001b[0m\u001b[1;33m,\u001b[0m \u001b[0mtype\u001b[0m\u001b[1;33m(\u001b[0m\u001b[0ma\u001b[0m\u001b[1;33m)\u001b[0m\u001b[1;33m)\u001b[0m\u001b[1;33m\u001b[0m\u001b[1;33m\u001b[0m\u001b[0m\n\u001b[1;32m----> 3\u001b[1;33m \u001b[0mprint\u001b[0m\u001b[1;33m(\u001b[0m\u001b[0mc\u001b[0m\u001b[1;33m,\u001b[0m \u001b[0mtype\u001b[0m\u001b[1;33m(\u001b[0m\u001b[0mc\u001b[0m\u001b[1;33m)\u001b[0m\u001b[1;33m)\u001b[0m\u001b[1;33m\u001b[0m\u001b[1;33m\u001b[0m\u001b[0m\n\u001b[0m",
      "\u001b[1;31mNameError\u001b[0m: name 'c' is not defined"
     ]
    }
   ],
   "source": [
    "a = None\n",
    "print(a, type(a))\n",
    "print(c, type(c))"
   ]
  },
  {
   "cell_type": "markdown",
   "metadata": {},
   "source": [
    "Al asignar _None_ a una variable borramos el dato guardado, pero no la variable.  \n",
    "Para borrar completamente la variable hay que usar _del_"
   ]
  },
  {
   "cell_type": "code",
   "execution_count": 20,
   "metadata": {
    "scrolled": true
   },
   "outputs": [
    {
     "name": "stdout",
     "output_type": "stream",
     "text": [
      "None\n"
     ]
    },
    {
     "ename": "NameError",
     "evalue": "name 'a' is not defined",
     "output_type": "error",
     "traceback": [
      "\u001b[1;31m---------------------------------------------------------------------------\u001b[0m",
      "\u001b[1;31mNameError\u001b[0m                                 Traceback (most recent call last)",
      "\u001b[1;32m<ipython-input-20-d0f8c0ac7044>\u001b[0m in \u001b[0;36m<module>\u001b[1;34m\u001b[0m\n\u001b[0;32m      2\u001b[0m \u001b[0mprint\u001b[0m\u001b[1;33m(\u001b[0m\u001b[0ma\u001b[0m\u001b[1;33m)\u001b[0m\u001b[1;33m\u001b[0m\u001b[1;33m\u001b[0m\u001b[0m\n\u001b[0;32m      3\u001b[0m \u001b[1;32mdel\u001b[0m \u001b[0ma\u001b[0m\u001b[1;33m\u001b[0m\u001b[1;33m\u001b[0m\u001b[0m\n\u001b[1;32m----> 4\u001b[1;33m \u001b[0mprint\u001b[0m\u001b[1;33m(\u001b[0m\u001b[0ma\u001b[0m\u001b[1;33m)\u001b[0m\u001b[1;33m\u001b[0m\u001b[1;33m\u001b[0m\u001b[0m\n\u001b[0m",
      "\u001b[1;31mNameError\u001b[0m: name 'a' is not defined"
     ]
    }
   ],
   "source": [
    "a = None\n",
    "print(a)\n",
    "del a\n",
    "print(a)"
   ]
  },
  {
   "cell_type": "markdown",
   "metadata": {},
   "source": [
    "### Tipos numéricos _int_ y _float_\n",
    "Sólo hay dos tipos básicos para representar números _int_ para enteros y _float_ para punto flotante. La precisión viene fijada por el interprete que estemos usando."
   ]
  },
  {
   "cell_type": "code",
   "execution_count": 25,
   "metadata": {},
   "outputs": [
    {
     "name": "stdout",
     "output_type": "stream",
     "text": [
      "1 <class 'int'>\n",
      "1.0 <class 'float'>\n",
      "1.234567891234568 <class 'float'>\n"
     ]
    }
   ],
   "source": [
    "a, b, c =  1, 1., 1.23456789123456789\n",
    "print(a,type(a))\n",
    "print(b, type(b))\n",
    "print(c, type(c))"
   ]
  },
  {
   "cell_type": "markdown",
   "metadata": {},
   "source": [
    "Podemos representar enteros en hexadecimal y en binario"
   ]
  },
  {
   "cell_type": "code",
   "execution_count": 3,
   "metadata": {},
   "outputs": [
    {
     "name": "stdout",
     "output_type": "stream",
     "text": [
      "240 5\n"
     ]
    }
   ],
   "source": [
    "a = 0xf0\n",
    "b = 0b101\n",
    "print(a,b)"
   ]
  },
  {
   "cell_type": "markdown",
   "metadata": {},
   "source": [
    "### Cadenas de caractéres\n",
    "Podemos usar comillas simples o dobles"
   ]
  },
  {
   "cell_type": "code",
   "execution_count": 31,
   "metadata": {
    "scrolled": false
   },
   "outputs": [
    {
     "name": "stdout",
     "output_type": "stream",
     "text": [
      "Comillas simples Comillas dobles\n",
      "La cadena termina con el mismo tipo de \"comillas\" con el que empieza\n"
     ]
    }
   ],
   "source": [
    "a = 'Comillas simples'\n",
    "b = 'Comillas dobles'\n",
    "c = 'La cadena termina con el mismo tipo de \"comillas\" con el que empieza'\n",
    "print(a, b)\n",
    "print(c)"
   ]
  },
  {
   "cell_type": "markdown",
   "metadata": {},
   "source": [
    "Hay que distinguir entre las cadenas de símbolos ortograficos en sí, y las sequiencias de bytes que las representan.\n",
    " - Las cadenas de simbolos son objetos de tipo _str_\n",
    " - Las secuencias de bytes son objetos de tipo _bytes_\n",
    "\n",
    "En Python3, por defecto, el texto entrecomillado se considera de tipo _str_ , para tomarlo como _bytes_ hay que poner una _b_ delante."
   ]
  },
  {
   "cell_type": "code",
   "execution_count": 29,
   "metadata": {
    "scrolled": true
   },
   "outputs": [
    {
     "name": "stdout",
     "output_type": "stream",
     "text": [
      "<class 'str'> <class 'bytes'>\n"
     ]
    }
   ],
   "source": [
    "print(type('foo'), type(b'foo'))"
   ]
  },
  {
   "cell_type": "markdown",
   "metadata": {},
   "source": [
    "Para pasar de _str_ a _bytes_ podemos usar el método _encode_ que toma como parámetro el esquéma de codificación a utilizar (por defecto _UTF-8_ )."
   ]
  },
  {
   "cell_type": "code",
   "execution_count": 22,
   "metadata": {
    "scrolled": true
   },
   "outputs": [
    {
     "name": "stdout",
     "output_type": "stream",
     "text": [
      "foo b'foo' b'foo'\n",
      "bar b'bar' b'bar'\n",
      "b'\\xf0\\x9f\\x8e\\xb5Daisy, Daisy, give me your answer do.\\xf0\\x9f\\x8e\\xb5'\n",
      "añejo b'a\\xc3\\xb1ejo' b'a\\xf1ejo'\n"
     ]
    },
    {
     "ename": "UnicodeEncodeError",
     "evalue": "'ascii' codec can't encode character '\\xf1' in position 1: ordinal not in range(128)",
     "output_type": "error",
     "traceback": [
      "\u001b[1;31m---------------------------------------------------------------------------\u001b[0m",
      "\u001b[1;31mUnicodeEncodeError\u001b[0m                        Traceback (most recent call last)",
      "\u001b[1;32m<ipython-input-22-ae728c149d81>\u001b[0m in \u001b[0;36m<module>\u001b[1;34m\u001b[0m\n\u001b[0;32m      3\u001b[0m \u001b[0mprint\u001b[0m\u001b[1;33m(\u001b[0m\u001b[1;34m'🎵Daisy, Daisy, give me your answer do.🎵'\u001b[0m\u001b[1;33m.\u001b[0m\u001b[0mencode\u001b[0m\u001b[1;33m(\u001b[0m\u001b[1;34m'utf-8'\u001b[0m\u001b[1;33m)\u001b[0m\u001b[1;33m)\u001b[0m\u001b[1;33m\u001b[0m\u001b[1;33m\u001b[0m\u001b[0m\n\u001b[0;32m      4\u001b[0m \u001b[0mprint\u001b[0m\u001b[1;33m(\u001b[0m\u001b[1;34m'añejo'\u001b[0m\u001b[1;33m,\u001b[0m \u001b[1;34m'añejo'\u001b[0m\u001b[1;33m.\u001b[0m\u001b[0mencode\u001b[0m\u001b[1;33m(\u001b[0m\u001b[1;34m'utf-8'\u001b[0m\u001b[1;33m)\u001b[0m\u001b[1;33m,\u001b[0m \u001b[1;34m'añejo'\u001b[0m\u001b[1;33m.\u001b[0m\u001b[0mencode\u001b[0m\u001b[1;33m(\u001b[0m\u001b[1;34m'latin-1'\u001b[0m\u001b[1;33m)\u001b[0m\u001b[1;33m)\u001b[0m\u001b[1;33m\u001b[0m\u001b[1;33m\u001b[0m\u001b[0m\n\u001b[1;32m----> 5\u001b[1;33m \u001b[0mprint\u001b[0m\u001b[1;33m(\u001b[0m\u001b[1;34m'foo'\u001b[0m\u001b[1;33m.\u001b[0m\u001b[0mencode\u001b[0m\u001b[1;33m(\u001b[0m\u001b[1;34m'ascii'\u001b[0m\u001b[1;33m)\u001b[0m\u001b[1;33m,\u001b[0m \u001b[1;34m'añejo'\u001b[0m\u001b[1;33m.\u001b[0m\u001b[0mencode\u001b[0m\u001b[1;33m(\u001b[0m\u001b[1;34m'ascii'\u001b[0m\u001b[1;33m)\u001b[0m\u001b[1;33m)\u001b[0m\u001b[1;33m\u001b[0m\u001b[1;33m\u001b[0m\u001b[0m\n\u001b[0m",
      "\u001b[1;31mUnicodeEncodeError\u001b[0m: 'ascii' codec can't encode character '\\xf1' in position 1: ordinal not in range(128)"
     ]
    }
   ],
   "source": [
    "print('foo', 'foo'.encode('utf-8'), 'foo'.encode('latin-1'))\n",
    "print('bar', 'bar'.encode('utf-8'), 'bar'.encode('latin-1'))\n",
    "print('🎵Daisy, Daisy, give me your answer do.🎵'.encode('utf-8'))\n",
    "print('añejo', 'añejo'.encode('utf-8'), 'añejo'.encode('latin-1'))\n",
    "print('foo'.encode('ascii'), 'añejo'.encode('ascii'))"
   ]
  },
  {
   "cell_type": "markdown",
   "metadata": {},
   "source": [
    "Para pasar de _bytes_ a _str_ usamos el método decode."
   ]
  },
  {
   "cell_type": "code",
   "execution_count": 41,
   "metadata": {
    "scrolled": true
   },
   "outputs": [
    {
     "name": "stdout",
     "output_type": "stream",
     "text": [
      "foo\n",
      "añejo\n",
      "aÃ±ejo\n"
     ]
    }
   ],
   "source": [
    "print(b'foo'.decode('utf-8'))\n",
    "print(b'a\\xc3\\xb1ejo'.decode('utf-8'))\n",
    "print(b'a\\xc3\\xb1ejo'.decode('latin-1'))"
   ]
  },
  {
   "cell_type": "markdown",
   "metadata": {},
   "source": [
    "Los operadores _+_ y _*_ están sobrecargados para que funcionen con objetos _str_"
   ]
  },
  {
   "cell_type": "code",
   "execution_count": 42,
   "metadata": {},
   "outputs": [
    {
     "name": "stdout",
     "output_type": "stream",
     "text": [
      "foobar\n",
      "foofoobarbarbar\n"
     ]
    }
   ],
   "source": [
    "a = 'foo'\n",
    "b = 'bar'\n",
    "print(a+b)\n",
    "print(2*a + 3*b)"
   ]
  },
  {
   "cell_type": "markdown",
   "metadata": {},
   "source": [
    "Para generar texto con formato podemos usar la función _format(\\)_ o _f-strings_"
   ]
  },
  {
   "cell_type": "code",
   "execution_count": 11,
   "metadata": {
    "scrolled": true
   },
   "outputs": [
    {
     "name": "stdout",
     "output_type": "stream",
     "text": [
      "Hello, Dave\n",
      "Hello, Dave\n",
      "Integer with min size: 9000    ; Float with max decimal places: 123.46\n"
     ]
    }
   ],
   "source": [
    "name = 'Dave'\n",
    "print('Hello, {}'.format(name))\n",
    "print(f'Hello, {name}')\n",
    "\n",
    "someInt = 9000\n",
    "someFloat = 123.4567\n",
    "print(f'Integer with min size: {someInt:8}; Float with max decimal places: {someFloat:.2f}')"
   ]
  },
  {
   "cell_type": "markdown",
   "metadata": {},
   "source": [
    "Por último tenemos las cadenas multi-linea, que se delimitan con tres comillas en cada extremo"
   ]
  },
  {
   "cell_type": "code",
   "execution_count": 19,
   "metadata": {},
   "outputs": [
    {
     "name": "stdout",
     "output_type": "stream",
     "text": [
      "    🎵 Daisy, Daisy, give me your answer do. \n",
      "    I'm half crazy all for the love of  you.\n",
      "    It won't be a stylish marriage, I can't afford a carriage.\n",
      "    But you'll look sweet upon the seat of a bicycle built for two. 🎵\n"
     ]
    }
   ],
   "source": [
    "song = \"\"\"    🎵 Daisy, Daisy, give me your answer do. \n",
    "    I'm half crazy all for the love of  you.\n",
    "    It won't be a stylish marriage, I can't afford a carriage.\n",
    "    But you'll look sweet upon the seat of a bicycle built for two. 🎵\"\"\"\n",
    "print(song)"
   ]
  },
  {
   "cell_type": "markdown",
   "metadata": {},
   "source": [
    "### Listas, tuplas, sets, diccionarios\n",
    "\n",
    "Listas y tuplas son **secuencias ordenadas** de valores. Se puede acceder a un valor concreto mediante su índice. La numeración **empieza en 0**."
   ]
  },
  {
   "cell_type": "markdown",
   "metadata": {},
   "source": [
    "Las tuplas se delimitan con parentesis _\\(\\)_ y son inmutables"
   ]
  },
  {
   "cell_type": "code",
   "execution_count": 52,
   "metadata": {},
   "outputs": [
    {
     "name": "stdout",
     "output_type": "stream",
     "text": [
      "(1, 2, 3) (1,) (1, 'dos', None)\n"
     ]
    }
   ],
   "source": [
    "a = (1, 2, 3)\n",
    "b = (1,)\n",
    "c = (1, 'dos', None)\n",
    "print(a,b,c)"
   ]
  },
  {
   "cell_type": "code",
   "execution_count": 54,
   "metadata": {},
   "outputs": [
    {
     "name": "stdout",
     "output_type": "stream",
     "text": [
      "1\n"
     ]
    },
    {
     "ename": "TypeError",
     "evalue": "'tuple' object does not support item assignment",
     "output_type": "error",
     "traceback": [
      "\u001b[1;31m---------------------------------------------------------------------------\u001b[0m",
      "\u001b[1;31mTypeError\u001b[0m                                 Traceback (most recent call last)",
      "\u001b[1;32m<ipython-input-54-198f4f1f2271>\u001b[0m in \u001b[0;36m<module>\u001b[1;34m\u001b[0m\n\u001b[0;32m      1\u001b[0m \u001b[0ma\u001b[0m \u001b[1;33m=\u001b[0m \u001b[1;33m(\u001b[0m\u001b[1;36m1\u001b[0m\u001b[1;33m,\u001b[0m\u001b[1;36m2\u001b[0m\u001b[1;33m,\u001b[0m\u001b[1;36m3\u001b[0m\u001b[1;33m)\u001b[0m\u001b[1;33m\u001b[0m\u001b[1;33m\u001b[0m\u001b[0m\n\u001b[0;32m      2\u001b[0m \u001b[0mprint\u001b[0m\u001b[1;33m(\u001b[0m\u001b[0ma\u001b[0m\u001b[1;33m[\u001b[0m\u001b[1;36m0\u001b[0m\u001b[1;33m]\u001b[0m\u001b[1;33m)\u001b[0m\u001b[1;33m\u001b[0m\u001b[1;33m\u001b[0m\u001b[0m\n\u001b[1;32m----> 3\u001b[1;33m \u001b[0ma\u001b[0m\u001b[1;33m[\u001b[0m\u001b[1;36m0\u001b[0m\u001b[1;33m]\u001b[0m \u001b[1;33m=\u001b[0m \u001b[1;36m4\u001b[0m\u001b[1;33m\u001b[0m\u001b[1;33m\u001b[0m\u001b[0m\n\u001b[0m\u001b[0;32m      4\u001b[0m \u001b[0mprint\u001b[0m\u001b[1;33m(\u001b[0m\u001b[0ma\u001b[0m\u001b[1;33m[\u001b[0m\u001b[1;36m0\u001b[0m\u001b[1;33m]\u001b[0m\u001b[1;33m)\u001b[0m\u001b[1;33m\u001b[0m\u001b[1;33m\u001b[0m\u001b[0m\n",
      "\u001b[1;31mTypeError\u001b[0m: 'tuple' object does not support item assignment"
     ]
    }
   ],
   "source": [
    "a = (1,2,3)\n",
    "print(a[0])\n",
    "a[0] = 4\n",
    "print(a[0])"
   ]
  },
  {
   "cell_type": "markdown",
   "metadata": {},
   "source": [
    "Las listas se delimitan con parentesis y son mutables"
   ]
  },
  {
   "cell_type": "code",
   "execution_count": 55,
   "metadata": {},
   "outputs": [],
   "source": [
    "a = [1,2,3]\n",
    "b = [1,]\n",
    "c = [1,'dos',None]"
   ]
  },
  {
   "cell_type": "code",
   "execution_count": 57,
   "metadata": {},
   "outputs": [
    {
     "name": "stdout",
     "output_type": "stream",
     "text": [
      "1\n",
      "4\n",
      "[4, 2, 3, 5]\n"
     ]
    }
   ],
   "source": [
    "a = [1,2,3]\n",
    "print(a[0])\n",
    "a[0] = 4\n",
    "print(a[0])\n",
    "a.append(5)\n",
    "print(a)"
   ]
  },
  {
   "attachments": {
    "imagen.png": {
     "image/png": "[encoded data removed]"
    }
   },
   "cell_type": "markdown",
   "metadata": {},
   "source": [
    "Tanto con listas como con tuplas podemos usar _slices_ para referirnos a un subconjunto de sus elementos. Se representan mediante _\\[inicio:fin:paso\\]_\n",
    "Ojo que los indices no representan exactamente lo mismo cuando se refieren a un elemento que cuando se refieren a un _slice_\\. Los _slices_ incluyen el elemento inicial, pero no el final.\n",
    "![imagen.png](attachment:imagen.png)\n",
    "Se puede considerar que los _slices_ apuntan a la frontera entre 2 elementos como se ve en la imagen anterior."
   ]
  },
  {
   "cell_type": "code",
   "execution_count": 52,
   "metadata": {},
   "outputs": [
    {
     "name": "stdout",
     "output_type": "stream",
     "text": [
      "a d\n",
      "['a', 'b', 'c']\n",
      "\n",
      "b e\n",
      "['b', 'c', 'd']\n",
      "\n",
      "['a', 'c', 'e'] ['f', 'e', 'd', 'c', 'b', 'a']\n"
     ]
    }
   ],
   "source": [
    "a = ['a', 'b', 'c', 'd', 'e', 'f']\n",
    "print(a[0], a[3])\n",
    "print(a[0:3])\n",
    "print()\n",
    "print(a[1], a[-2])\n",
    "print(a[1:-2])\n",
    "print()\n",
    "print(a[::2], a[::-1])"
   ]
  },
  {
   "cell_type": "markdown",
   "metadata": {},
   "source": [
    "Los sets son conjuntos **desordenados** de elementos **únicos** (sin repeticiones). Se delimitan con llaves"
   ]
  },
  {
   "cell_type": "code",
   "execution_count": 32,
   "metadata": {},
   "outputs": [
    {
     "name": "stdout",
     "output_type": "stream",
     "text": [
      "{1, 2, 3, 4, 5}\n",
      "{1, 2, 3, 4, 5, 6}\n",
      "{2, 3, 4, 5, 6}\n",
      "{2, 3, 4, 5, 6}\n"
     ]
    }
   ],
   "source": [
    "a = {1, 2, 3, 4, 5}\n",
    "print(a)\n",
    "a.add(6)\n",
    "print(a)\n",
    "a.discard(1)\n",
    "print(a)\n",
    "a.add(2)\n",
    "print(a)"
   ]
  },
  {
   "cell_type": "markdown",
   "metadata": {},
   "source": [
    "Podemos comprobar facilmente si un cierto elemento pertenece a un set. Tambien podemos realizar operaciones basicas de conjuntos."
   ]
  },
  {
   "cell_type": "code",
   "execution_count": 41,
   "metadata": {},
   "outputs": [
    {
     "name": "stdout",
     "output_type": "stream",
     "text": [
      "Is 1 inside a? True\n",
      "Is 5 inside a? False\n",
      "{1, 2, 3, 4, 6, 8}\n",
      "{1, 3}\n",
      "{2, 4}\n"
     ]
    }
   ],
   "source": [
    "a = {1,2,3,4}\n",
    "b = {2,4,6,8}\n",
    "print('Is 1 inside a?', 1 in a)\n",
    "print('Is 5 inside a?',5 in a)\n",
    "\n",
    "print(a.union(b))\n",
    "print(a.difference(b))\n",
    "print(a.intersection(b))"
   ]
  },
  {
   "cell_type": "markdown",
   "metadata": {},
   "source": [
    "### Numpy.array\n",
    "Los arrays de numpy no pertenecen a la libreria estandar, pero son practicamente indispensables para cualquier cálculo numérico y, además, se parecen mucho a las matrices de Matlab, así que los discutiremos brevemente.\n",
    "\n",
    "Este tipo de datos se encuentra definido en la libreria _numpy_ así que lo primero es importar dicha libreria (suponiendo que ya la tenemos instalada)"
   ]
  },
  {
   "cell_type": "code",
   "execution_count": 44,
   "metadata": {},
   "outputs": [],
   "source": [
    "import numpy"
   ]
  },
  {
   "cell_type": "markdown",
   "metadata": {},
   "source": [
    "Podemos inicializarlos pasando una lista/tupla al constructor (sólo admite datos numericos o booleanos) o mediante _numpy.zeros(\\)_\\, _numpy.ones(\\)_"
   ]
  },
  {
   "cell_type": "code",
   "execution_count": 48,
   "metadata": {},
   "outputs": [
    {
     "name": "stdout",
     "output_type": "stream",
     "text": [
      "[1 2 3]\n",
      "[[1 2]\n",
      " [1 2]\n",
      " [1 2]]\n",
      "\n",
      "[[0. 0. 0. 0.]\n",
      " [0. 0. 0. 0.]\n",
      " [0. 0. 0. 0.]]\n",
      "[[1. 1.]\n",
      " [1. 1.]\n",
      " [1. 1.]\n",
      " [1. 1.]]\n"
     ]
    }
   ],
   "source": [
    "arr1D = numpy.array([1,2,3])\n",
    "arr2D = numpy.array(((1,2),(1,2),(1,2)))\n",
    "print(arr1D)\n",
    "print(arr2D)\n",
    "print()\n",
    "print(numpy.zeros([3,4]))\n",
    "print(numpy.ones((4,2)))"
   ]
  },
  {
   "cell_type": "markdown",
   "metadata": {},
   "source": [
    "Podemos acceder a elementos individuales mediante sus indices o a subconjuntos mediante slices.  \n",
    "Para arrays bidimensionales el primer indice representa la fila y el segundo la columna "
   ]
  },
  {
   "cell_type": "code",
   "execution_count": 55,
   "metadata": {},
   "outputs": [
    {
     "name": "stdout",
     "output_type": "stream",
     "text": [
      "[[1 2]\n",
      " [3 4]\n",
      " [5 6]]\n",
      "\n",
      "6\n",
      "\n",
      "[1 3 5]\n",
      "\n",
      "[[1 2]\n",
      " [3 4]]\n"
     ]
    }
   ],
   "source": [
    "a = numpy.array([[1,2],[3,4],[5,6]])\n",
    "print(a)\n",
    "print()\n",
    "print(a[2,1])\n",
    "print()\n",
    "print(a[:,0])\n",
    "print()\n",
    "print(a[0:2,:])"
   ]
  },
  {
   "cell_type": "markdown",
   "metadata": {},
   "source": []
  },
  {
   "cell_type": "code",
   "execution_count": null,
   "metadata": {},
   "outputs": [],
   "source": []
  },
  {
   "cell_type": "markdown",
   "metadata": {},
   "source": [
    "## Operadores\n",
    "### Matemáticos\n",
    "### Lógicos (Valores considerados True o False)\n",
    "### Operadores numpy\n",
    "\n",
    "## Control del flujo\n",
    "### if, else, elif\n",
    "### try, except, else, finally\n",
    "### with, \\_\\_enter\\_\\_, \\_\\_exit\\_\\_\n",
    "### for, range(), enumerate(), zip()\n",
    "  - continue, break, else\n",
    "\n",
    "## List comprehensions\n",
    "\n",
    "## Funciones\n",
    "### Definición de funciones\n",
    "  - pass\n",
    "  - Default values, positional/keyword arguments\n",
    "  - args, kwargs\n",
    "  - Doc strings\n",
    "### Funciones como variables\n",
    "  - Lambda expressions\n",
    "  - Closures\n",
    "\n",
    "## Clases\n",
    "### Definición\n",
    "  - \\_\\_init\\_\\_, \\_\\_del\\_\\_\n",
    "  - Miembros privados\n",
    "  - variables estáticas (ojo)\n",
    "### Herencia\n",
    "  - super()\n",
    "  - @classmethod\n",
    "  - @staticmethod"
   ]
  }
 ],
 "metadata": {
  "kernelspec": {
   "display_name": "Python 3",
   "language": "python",
   "name": "python3"
  },
  "language_info": {
   "codemirror_mode": {
    "name": "ipython",
    "version": 3
   },
   "file_extension": ".py",
   "mimetype": "text/x-python",
   "name": "python",
   "nbconvert_exporter": "python",
   "pygments_lexer": "ipython3",
   "version": "3.6.8"
  }
 },
 "nbformat": 4,
 "nbformat_minor": 2
}
