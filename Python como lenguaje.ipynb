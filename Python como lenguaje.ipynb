{
 "cells": [
  {
   "cell_type": "markdown",
   "metadata": {},
   "source": [
    "# Python como lenguaje de programación\n",
    "--------------------------------------------------------------"
   ]
  },
  {
   "cell_type": "markdown",
   "metadata": {},
   "source": [
    "## Introducción\n",
    "\n",
    "En este capitulo vamos a explorar las particularidad de Python a la hora de  de escribir código.\n",
    "\n",
    "Teniendo en cuenta que ya sabemos programar, no haremos una revisión exhaustiva de todos los elementos del lenguaje. Vamos a destacar aquellos propios de Python y, en particular, los que puedan llevar a error por su aparente similitud con otros lenguajes.\n",
    "\n",
    "Para una visión mucho más extensa de este tema recomiendo visitar el [Tutorial oficial de Python3](https://docs.python.org/3/tutorial/)"
   ]
  },
  {
   "cell_type": "markdown",
   "metadata": {},
   "source": [
    "## Variables / tipos\n",
    "\n",
    "### Tipado\n",
    "Python es un lenguaje de programación de tipado dinámico:\n",
    " - No tenemos que especificar el tipo de las variables.\n",
    " - Una variable puede almacenar distintos tipos de valores en distintos momentos."
   ]
  },
  {
   "cell_type": "code",
   "execution_count": 15,
   "metadata": {},
   "outputs": [
    {
     "name": "stdout",
     "output_type": "stream",
     "text": [
      "1 <class 'int'>\n",
      "foo <class 'str'>\n"
     ]
    }
   ],
   "source": [
    "a = 1\n",
    "print(a, type(a))\n",
    "a = 'foo'\n",
    "print(a,type(a))"
   ]
  },
  {
   "cell_type": "markdown",
   "metadata": {},
   "source": [
    "A su vez, tambien tiene tipado fuerte:\n",
    " - Si un dato es de un tipo concreto no se puede usar como si fuera de otro tipo"
   ]
  },
  {
   "cell_type": "code",
   "execution_count": 14,
   "metadata": {},
   "outputs": [
    {
     "name": "stdout",
     "output_type": "stream",
     "text": [
      "food\n"
     ]
    },
    {
     "ename": "TypeError",
     "evalue": "must be str, not int",
     "output_type": "error",
     "traceback": [
      "\u001b[1;31m---------------------------------------------------------------------------\u001b[0m",
      "\u001b[1;31mTypeError\u001b[0m                                 Traceback (most recent call last)",
      "\u001b[1;32m<ipython-input-14-ab2d7304e72f>\u001b[0m in \u001b[0;36m<module>\u001b[1;34m\u001b[0m\n\u001b[0;32m      2\u001b[0m \u001b[0mb\u001b[0m \u001b[1;33m=\u001b[0m \u001b[1;36m100\u001b[0m\u001b[1;33m\u001b[0m\u001b[1;33m\u001b[0m\u001b[0m\n\u001b[0;32m      3\u001b[0m \u001b[0mprint\u001b[0m\u001b[1;33m(\u001b[0m\u001b[0ma\u001b[0m\u001b[1;33m+\u001b[0m\u001b[0mchr\u001b[0m\u001b[1;33m(\u001b[0m\u001b[0mb\u001b[0m\u001b[1;33m)\u001b[0m\u001b[1;33m)\u001b[0m\u001b[1;33m\u001b[0m\u001b[1;33m\u001b[0m\u001b[0m\n\u001b[1;32m----> 4\u001b[1;33m \u001b[0mprint\u001b[0m\u001b[1;33m(\u001b[0m\u001b[0ma\u001b[0m\u001b[1;33m+\u001b[0m\u001b[0mb\u001b[0m\u001b[1;33m)\u001b[0m\u001b[1;33m\u001b[0m\u001b[1;33m\u001b[0m\u001b[0m\n\u001b[0m",
      "\u001b[1;31mTypeError\u001b[0m: must be str, not int"
     ]
    }
   ],
   "source": [
    "a = 'foo'\n",
    "b = 100\n",
    "print(a+chr(b))\n",
    "print(a+b)\n"
   ]
  },
  {
   "cell_type": "markdown",
   "metadata": {},
   "source": [
    "### None y del\n",
    "_None_ es el único valor del tipo NoneType:\n",
    " - Representa una variable que no ha sido inicializada\n",
    " - Similar a puntero _NULL_\n",
    " - Una variable a _None_ no es lo mismo que una variable no definida"
   ]
  },
  {
   "cell_type": "code",
   "execution_count": 17,
   "metadata": {},
   "outputs": [
    {
     "name": "stdout",
     "output_type": "stream",
     "text": [
      "None <class 'NoneType'>\n"
     ]
    },
    {
     "ename": "NameError",
     "evalue": "name 'c' is not defined",
     "output_type": "error",
     "traceback": [
      "\u001b[1;31m---------------------------------------------------------------------------\u001b[0m",
      "\u001b[1;31mNameError\u001b[0m                                 Traceback (most recent call last)",
      "\u001b[1;32m<ipython-input-17-786ab7aa24f3>\u001b[0m in \u001b[0;36m<module>\u001b[1;34m\u001b[0m\n\u001b[0;32m      1\u001b[0m \u001b[0ma\u001b[0m \u001b[1;33m=\u001b[0m \u001b[1;32mNone\u001b[0m\u001b[1;33m\u001b[0m\u001b[1;33m\u001b[0m\u001b[0m\n\u001b[0;32m      2\u001b[0m \u001b[0mprint\u001b[0m\u001b[1;33m(\u001b[0m\u001b[0ma\u001b[0m\u001b[1;33m,\u001b[0m \u001b[0mtype\u001b[0m\u001b[1;33m(\u001b[0m\u001b[0ma\u001b[0m\u001b[1;33m)\u001b[0m\u001b[1;33m)\u001b[0m\u001b[1;33m\u001b[0m\u001b[1;33m\u001b[0m\u001b[0m\n\u001b[1;32m----> 3\u001b[1;33m \u001b[0mprint\u001b[0m\u001b[1;33m(\u001b[0m\u001b[0mc\u001b[0m\u001b[1;33m,\u001b[0m \u001b[0mtype\u001b[0m\u001b[1;33m(\u001b[0m\u001b[0mc\u001b[0m\u001b[1;33m)\u001b[0m\u001b[1;33m)\u001b[0m\u001b[1;33m\u001b[0m\u001b[1;33m\u001b[0m\u001b[0m\n\u001b[0m",
      "\u001b[1;31mNameError\u001b[0m: name 'c' is not defined"
     ]
    }
   ],
   "source": [
    "a = None\n",
    "print(a, type(a))\n",
    "print(c, type(c))"
   ]
  },
  {
   "cell_type": "markdown",
   "metadata": {},
   "source": [
    "Al asignar _None_ a una variable borramos el dato guardado, pero no la variable.  \n",
    "Para borrar completamente la variable hay que usar _del_"
   ]
  },
  {
   "cell_type": "code",
   "execution_count": 20,
   "metadata": {
    "scrolled": true
   },
   "outputs": [
    {
     "name": "stdout",
     "output_type": "stream",
     "text": [
      "None\n"
     ]
    },
    {
     "ename": "NameError",
     "evalue": "name 'a' is not defined",
     "output_type": "error",
     "traceback": [
      "\u001b[1;31m---------------------------------------------------------------------------\u001b[0m",
      "\u001b[1;31mNameError\u001b[0m                                 Traceback (most recent call last)",
      "\u001b[1;32m<ipython-input-20-d0f8c0ac7044>\u001b[0m in \u001b[0;36m<module>\u001b[1;34m\u001b[0m\n\u001b[0;32m      2\u001b[0m \u001b[0mprint\u001b[0m\u001b[1;33m(\u001b[0m\u001b[0ma\u001b[0m\u001b[1;33m)\u001b[0m\u001b[1;33m\u001b[0m\u001b[1;33m\u001b[0m\u001b[0m\n\u001b[0;32m      3\u001b[0m \u001b[1;32mdel\u001b[0m \u001b[0ma\u001b[0m\u001b[1;33m\u001b[0m\u001b[1;33m\u001b[0m\u001b[0m\n\u001b[1;32m----> 4\u001b[1;33m \u001b[0mprint\u001b[0m\u001b[1;33m(\u001b[0m\u001b[0ma\u001b[0m\u001b[1;33m)\u001b[0m\u001b[1;33m\u001b[0m\u001b[1;33m\u001b[0m\u001b[0m\n\u001b[0m",
      "\u001b[1;31mNameError\u001b[0m: name 'a' is not defined"
     ]
    }
   ],
   "source": [
    "a = None\n",
    "print(a)\n",
    "del a\n",
    "print(a)"
   ]
  },
  {
   "cell_type": "markdown",
   "metadata": {},
   "source": [
    "### Tipos numéricos _int_ y _float_\n",
    "Sólo hay dos tipos básicos para representar números _int_ para enteros y _float_ para punto flotante. La precisión viene fijada por el interprete que estemos usando."
   ]
  },
  {
   "cell_type": "code",
   "execution_count": 25,
   "metadata": {},
   "outputs": [
    {
     "name": "stdout",
     "output_type": "stream",
     "text": [
      "1 <class 'int'>\n",
      "1.0 <class 'float'>\n",
      "1.234567891234568 <class 'float'>\n"
     ]
    }
   ],
   "source": [
    "a, b, c =  1, 1., 1.23456789123456789\n",
    "print(a,type(a))\n",
    "print(b, type(b))\n",
    "print(c, type(c))"
   ]
  },
  {
   "cell_type": "markdown",
   "metadata": {},
   "source": [
    "Podemos representar enteros en hexadecimal y en binario"
   ]
  },
  {
   "cell_type": "code",
   "execution_count": 3,
   "metadata": {},
   "outputs": [
    {
     "name": "stdout",
     "output_type": "stream",
     "text": [
      "240 5\n"
     ]
    }
   ],
   "source": [
    "a = 0xf0\n",
    "b = 0b101\n",
    "print(a,b)"
   ]
  },
  {
   "cell_type": "markdown",
   "metadata": {},
   "source": [
    "### Cadenas de caractéres\n",
    "Podemos usar comillas simples o dobles"
   ]
  },
  {
   "cell_type": "code",
   "execution_count": 31,
   "metadata": {
    "scrolled": false
   },
   "outputs": [
    {
     "name": "stdout",
     "output_type": "stream",
     "text": [
      "Comillas simples Comillas dobles\n",
      "La cadena termina con el mismo tipo de \"comillas\" con el que empieza\n"
     ]
    }
   ],
   "source": [
    "a = 'Comillas simples'\n",
    "b = 'Comillas dobles'\n",
    "c = 'La cadena termina con el mismo tipo de \"comillas\" con el que empieza'\n",
    "print(a, b)\n",
    "print(c)"
   ]
  },
  {
   "cell_type": "markdown",
   "metadata": {},
   "source": [
    "Hay que distinguir entre las cadenas de símbolos ortograficos en sí, y las sequiencias de bytes que las representan.\n",
    " - Las cadenas de simbolos son objetos de tipo _str_\n",
    " - Las secuencias de bytes son objetos de tipo _bytes_\n",
    "\n",
    "En Python3, por defecto, el texto entrecomillado se considera de tipo _str_ , para tomarlo como _bytes_ hay que poner una _b_ delante."
   ]
  },
  {
   "cell_type": "code",
   "execution_count": 29,
   "metadata": {
    "scrolled": true
   },
   "outputs": [
    {
     "name": "stdout",
     "output_type": "stream",
     "text": [
      "<class 'str'> <class 'bytes'>\n"
     ]
    }
   ],
   "source": [
    "print(type('foo'), type(b'foo'))"
   ]
  },
  {
   "cell_type": "markdown",
   "metadata": {},
   "source": [
    "Para pasar de _str_ a _bytes_ podemos usar el método _encode_ que toma como parámetro el esquéma de codificación a utilizar (por defecto _UTF-8_ )."
   ]
  },
  {
   "cell_type": "code",
   "execution_count": 22,
   "metadata": {
    "scrolled": true
   },
   "outputs": [
    {
     "name": "stdout",
     "output_type": "stream",
     "text": [
      "foo b'foo' b'foo'\n",
      "bar b'bar' b'bar'\n",
      "b'\\xf0\\x9f\\x8e\\xb5Daisy, Daisy, give me your answer do.\\xf0\\x9f\\x8e\\xb5'\n",
      "añejo b'a\\xc3\\xb1ejo' b'a\\xf1ejo'\n"
     ]
    },
    {
     "ename": "UnicodeEncodeError",
     "evalue": "'ascii' codec can't encode character '\\xf1' in position 1: ordinal not in range(128)",
     "output_type": "error",
     "traceback": [
      "\u001b[1;31m---------------------------------------------------------------------------\u001b[0m",
      "\u001b[1;31mUnicodeEncodeError\u001b[0m                        Traceback (most recent call last)",
      "\u001b[1;32m<ipython-input-22-ae728c149d81>\u001b[0m in \u001b[0;36m<module>\u001b[1;34m\u001b[0m\n\u001b[0;32m      3\u001b[0m \u001b[0mprint\u001b[0m\u001b[1;33m(\u001b[0m\u001b[1;34m'🎵Daisy, Daisy, give me your answer do.🎵'\u001b[0m\u001b[1;33m.\u001b[0m\u001b[0mencode\u001b[0m\u001b[1;33m(\u001b[0m\u001b[1;34m'utf-8'\u001b[0m\u001b[1;33m)\u001b[0m\u001b[1;33m)\u001b[0m\u001b[1;33m\u001b[0m\u001b[1;33m\u001b[0m\u001b[0m\n\u001b[0;32m      4\u001b[0m \u001b[0mprint\u001b[0m\u001b[1;33m(\u001b[0m\u001b[1;34m'añejo'\u001b[0m\u001b[1;33m,\u001b[0m \u001b[1;34m'añejo'\u001b[0m\u001b[1;33m.\u001b[0m\u001b[0mencode\u001b[0m\u001b[1;33m(\u001b[0m\u001b[1;34m'utf-8'\u001b[0m\u001b[1;33m)\u001b[0m\u001b[1;33m,\u001b[0m \u001b[1;34m'añejo'\u001b[0m\u001b[1;33m.\u001b[0m\u001b[0mencode\u001b[0m\u001b[1;33m(\u001b[0m\u001b[1;34m'latin-1'\u001b[0m\u001b[1;33m)\u001b[0m\u001b[1;33m)\u001b[0m\u001b[1;33m\u001b[0m\u001b[1;33m\u001b[0m\u001b[0m\n\u001b[1;32m----> 5\u001b[1;33m \u001b[0mprint\u001b[0m\u001b[1;33m(\u001b[0m\u001b[1;34m'foo'\u001b[0m\u001b[1;33m.\u001b[0m\u001b[0mencode\u001b[0m\u001b[1;33m(\u001b[0m\u001b[1;34m'ascii'\u001b[0m\u001b[1;33m)\u001b[0m\u001b[1;33m,\u001b[0m \u001b[1;34m'añejo'\u001b[0m\u001b[1;33m.\u001b[0m\u001b[0mencode\u001b[0m\u001b[1;33m(\u001b[0m\u001b[1;34m'ascii'\u001b[0m\u001b[1;33m)\u001b[0m\u001b[1;33m)\u001b[0m\u001b[1;33m\u001b[0m\u001b[1;33m\u001b[0m\u001b[0m\n\u001b[0m",
      "\u001b[1;31mUnicodeEncodeError\u001b[0m: 'ascii' codec can't encode character '\\xf1' in position 1: ordinal not in range(128)"
     ]
    }
   ],
   "source": [
    "print('foo', 'foo'.encode('utf-8'), 'foo'.encode('latin-1'))\n",
    "print('bar', 'bar'.encode('utf-8'), 'bar'.encode('latin-1'))\n",
    "print('🎵Daisy, Daisy, give me your answer do.🎵'.encode('utf-8'))\n",
    "print('añejo', 'añejo'.encode('utf-8'), 'añejo'.encode('latin-1'))\n",
    "print('foo'.encode('ascii'), 'añejo'.encode('ascii'))"
   ]
  },
  {
   "cell_type": "markdown",
   "metadata": {},
   "source": [
    "Para pasar de _bytes_ a _str_ usamos el método decode."
   ]
  },
  {
   "cell_type": "code",
   "execution_count": 41,
   "metadata": {
    "scrolled": true
   },
   "outputs": [
    {
     "name": "stdout",
     "output_type": "stream",
     "text": [
      "foo\n",
      "añejo\n",
      "aÃ±ejo\n"
     ]
    }
   ],
   "source": [
    "print(b'foo'.decode('utf-8'))\n",
    "print(b'a\\xc3\\xb1ejo'.decode('utf-8'))\n",
    "print(b'a\\xc3\\xb1ejo'.decode('latin-1'))"
   ]
  },
  {
   "cell_type": "markdown",
   "metadata": {},
   "source": [
    "Los operadores _+_ y _*_ están sobrecargados para que funcionen con objetos _str_"
   ]
  },
  {
   "cell_type": "code",
   "execution_count": 42,
   "metadata": {},
   "outputs": [
    {
     "name": "stdout",
     "output_type": "stream",
     "text": [
      "foobar\n",
      "foofoobarbarbar\n"
     ]
    }
   ],
   "source": [
    "a = 'foo'\n",
    "b = 'bar'\n",
    "print(a+b)\n",
    "print(2*a + 3*b)"
   ]
  },
  {
   "cell_type": "markdown",
   "metadata": {},
   "source": [
    "Para generar texto con formato podemos usar la función _format(\\)_ o _f-strings_"
   ]
  },
  {
   "cell_type": "code",
   "execution_count": 11,
   "metadata": {
    "scrolled": true
   },
   "outputs": [
    {
     "name": "stdout",
     "output_type": "stream",
     "text": [
      "Hello, Dave\n",
      "Hello, Dave\n",
      "Integer with min size: 9000    ; Float with max decimal places: 123.46\n"
     ]
    }
   ],
   "source": [
    "name = 'Dave'\n",
    "print('Hello, {}'.format(name))\n",
    "print(f'Hello, {name}')\n",
    "\n",
    "someInt = 9000\n",
    "someFloat = 123.4567\n",
    "print(f'Integer with min size: {someInt:8}; Float with max decimal places: {someFloat:.2f}')"
   ]
  },
  {
   "cell_type": "markdown",
   "metadata": {},
   "source": [
    "Por último tenemos las cadenas multi-linea, que se delimitan con tres comillas en cada extremo"
   ]
  },
  {
   "cell_type": "code",
   "execution_count": 19,
   "metadata": {},
   "outputs": [
    {
     "name": "stdout",
     "output_type": "stream",
     "text": [
      "    🎵 Daisy, Daisy, give me your answer do. \n",
      "    I'm half crazy all for the love of  you.\n",
      "    It won't be a stylish marriage, I can't afford a carriage.\n",
      "    But you'll look sweet upon the seat of a bicycle built for two. 🎵\n"
     ]
    }
   ],
   "source": [
    "song = \"\"\"    🎵 Daisy, Daisy, give me your answer do. \n",
    "    I'm half crazy all for the love of  you.\n",
    "    It won't be a stylish marriage, I can't afford a carriage.\n",
    "    But you'll look sweet upon the seat of a bicycle built for two. 🎵\"\"\"\n",
    "print(song)"
   ]
  },
  {
   "cell_type": "markdown",
   "metadata": {},
   "source": [
    "### Iterables\n",
    "Los iterables son objetos que se pueden recorrer secuencialmente y que almacenan o producen valores de otros tipos.\n"
   ]
  },
  {
   "cell_type": "markdown",
   "metadata": {},
   "source": [
    "#### Contenedores\n",
    "Contienen todos sus datos en memoria. Pueden tardar en inicializarse y consumir mucha memoria, pero una vez construidos el acceso a los miembros es instantaneo.\n",
    "\n",
    "##### Listas y tuplas\n",
    "Listas (*list*) y tuplas (*tuple*) son **secuencias ordenadas** de valores. Se puede acceder a un valor concreto mediante su índice. La numeración **empieza en 0**."
   ]
  },
  {
   "cell_type": "markdown",
   "metadata": {},
   "source": [
    "Las tuplas se delimitan con parentesis _\\(\\)_ y son **inmutables**"
   ]
  },
  {
   "cell_type": "code",
   "execution_count": 52,
   "metadata": {},
   "outputs": [
    {
     "name": "stdout",
     "output_type": "stream",
     "text": [
      "(1, 2, 3) (1,) (1, 'dos', None)\n"
     ]
    }
   ],
   "source": [
    "a = (1, 2, 3)\n",
    "b = (1,)\n",
    "c = (1, 'dos', None)\n",
    "print(a,b,c)"
   ]
  },
  {
   "cell_type": "code",
   "execution_count": 54,
   "metadata": {},
   "outputs": [
    {
     "name": "stdout",
     "output_type": "stream",
     "text": [
      "1\n"
     ]
    },
    {
     "ename": "TypeError",
     "evalue": "'tuple' object does not support item assignment",
     "output_type": "error",
     "traceback": [
      "\u001b[1;31m---------------------------------------------------------------------------\u001b[0m",
      "\u001b[1;31mTypeError\u001b[0m                                 Traceback (most recent call last)",
      "\u001b[1;32m<ipython-input-54-198f4f1f2271>\u001b[0m in \u001b[0;36m<module>\u001b[1;34m\u001b[0m\n\u001b[0;32m      1\u001b[0m \u001b[0ma\u001b[0m \u001b[1;33m=\u001b[0m \u001b[1;33m(\u001b[0m\u001b[1;36m1\u001b[0m\u001b[1;33m,\u001b[0m\u001b[1;36m2\u001b[0m\u001b[1;33m,\u001b[0m\u001b[1;36m3\u001b[0m\u001b[1;33m)\u001b[0m\u001b[1;33m\u001b[0m\u001b[1;33m\u001b[0m\u001b[0m\n\u001b[0;32m      2\u001b[0m \u001b[0mprint\u001b[0m\u001b[1;33m(\u001b[0m\u001b[0ma\u001b[0m\u001b[1;33m[\u001b[0m\u001b[1;36m0\u001b[0m\u001b[1;33m]\u001b[0m\u001b[1;33m)\u001b[0m\u001b[1;33m\u001b[0m\u001b[1;33m\u001b[0m\u001b[0m\n\u001b[1;32m----> 3\u001b[1;33m \u001b[0ma\u001b[0m\u001b[1;33m[\u001b[0m\u001b[1;36m0\u001b[0m\u001b[1;33m]\u001b[0m \u001b[1;33m=\u001b[0m \u001b[1;36m4\u001b[0m\u001b[1;33m\u001b[0m\u001b[1;33m\u001b[0m\u001b[0m\n\u001b[0m\u001b[0;32m      4\u001b[0m \u001b[0mprint\u001b[0m\u001b[1;33m(\u001b[0m\u001b[0ma\u001b[0m\u001b[1;33m[\u001b[0m\u001b[1;36m0\u001b[0m\u001b[1;33m]\u001b[0m\u001b[1;33m)\u001b[0m\u001b[1;33m\u001b[0m\u001b[1;33m\u001b[0m\u001b[0m\n",
      "\u001b[1;31mTypeError\u001b[0m: 'tuple' object does not support item assignment"
     ]
    }
   ],
   "source": [
    "a = (1,2,3)\n",
    "print(a[0])\n",
    "a[0] = 4\n",
    "print(a[0])"
   ]
  },
  {
   "cell_type": "markdown",
   "metadata": {},
   "source": [
    "Las listas se delimitan con corchete \\[\\] y son **mutables**"
   ]
  },
  {
   "cell_type": "code",
   "execution_count": 55,
   "metadata": {},
   "outputs": [],
   "source": [
    "a = [1,2,3]\n",
    "b = [1,]\n",
    "c = [1,'dos',None]"
   ]
  },
  {
   "cell_type": "code",
   "execution_count": 57,
   "metadata": {},
   "outputs": [
    {
     "name": "stdout",
     "output_type": "stream",
     "text": [
      "1\n",
      "4\n",
      "[4, 2, 3, 5]\n"
     ]
    }
   ],
   "source": [
    "a = [1,2,3]\n",
    "print(a[0])\n",
    "a[0] = 4\n",
    "print(a[0])\n",
    "a.append(5)\n",
    "print(a)"
   ]
  },
  {
   "attachments": {
    "imagen.png": {
     "image/png": "[encoded data removed]"
    }
   },
   "cell_type": "markdown",
   "metadata": {},
   "source": [
    "Tanto con listas como con tuplas podemos usar _slices_ para referirnos a un subconjunto de sus elementos. Se representan mediante _\\[inicio:fin:paso\\]_\n",
    "Ojo que los indices no representan exactamente lo mismo cuando se refieren a un elemento que cuando se refieren a un *slice*\\. Los _slices_ incluyen el elemento inicial, pero no el final.\n",
    "![imagen.png](attachment:imagen.png)\n",
    "Se puede considerar que los _slices_ apuntan a la frontera entre 2 elementos como se ve en la imagen anterior."
   ]
  },
  {
   "cell_type": "code",
   "execution_count": 52,
   "metadata": {},
   "outputs": [
    {
     "name": "stdout",
     "output_type": "stream",
     "text": [
      "a d\n",
      "['a', 'b', 'c']\n",
      "\n",
      "b e\n",
      "['b', 'c', 'd']\n",
      "\n",
      "['a', 'c', 'e'] ['f', 'e', 'd', 'c', 'b', 'a']\n"
     ]
    }
   ],
   "source": [
    "a = ['a', 'b', 'c', 'd', 'e', 'f']\n",
    "print(a[0], a[3])\n",
    "print(a[0:3])\n",
    "print()\n",
    "print(a[1], a[-2])\n",
    "print(a[1:-2])\n",
    "print()\n",
    "print(a[::2], a[::-1])"
   ]
  },
  {
   "cell_type": "markdown",
   "metadata": {},
   "source": [
    "##### Sets\n",
    "Los sets son conjuntos **desordenados** de elementos **únicos** (sin repeticiones). Se delimitan con llaves"
   ]
  },
  {
   "cell_type": "code",
   "execution_count": 32,
   "metadata": {},
   "outputs": [
    {
     "name": "stdout",
     "output_type": "stream",
     "text": [
      "{1, 2, 3, 4, 5}\n",
      "{1, 2, 3, 4, 5, 6}\n",
      "{2, 3, 4, 5, 6}\n",
      "{2, 3, 4, 5, 6}\n"
     ]
    }
   ],
   "source": [
    "a = {1, 2, 3, 4, 5}\n",
    "print(a)\n",
    "a.add(6)\n",
    "print(a)\n",
    "a.discard(1)\n",
    "print(a)\n",
    "a.add(2)\n",
    "print(a)"
   ]
  },
  {
   "cell_type": "markdown",
   "metadata": {},
   "source": [
    "Podemos comprobar facilmente si un cierto elemento pertenece a un set. Tambien podemos realizar operaciones basicas de conjuntos."
   ]
  },
  {
   "cell_type": "code",
   "execution_count": 41,
   "metadata": {},
   "outputs": [
    {
     "name": "stdout",
     "output_type": "stream",
     "text": [
      "Is 1 inside a? True\n",
      "Is 5 inside a? False\n",
      "{1, 2, 3, 4, 6, 8}\n",
      "{1, 3}\n",
      "{2, 4}\n"
     ]
    }
   ],
   "source": [
    "a = {1,2,3,4}\n",
    "b = {2,4,6,8}\n",
    "print('Is 1 inside a?', 1 in a)\n",
    "print('Is 5 inside a?',5 in a)\n",
    "\n",
    "print(a.union(b))\n",
    "print(a.difference(b))\n",
    "print(a.intersection(b))"
   ]
  },
  {
   "cell_type": "markdown",
   "metadata": {},
   "source": [
    "##### Diccionarios\n",
    "Los diccionarios (*dictionaries*) son conjuntos de **pares clave-valor** (*key-value*). Se definen mediante: *{clave1: valor1, clave2: valor2}*  \n",
    "Se puede acceder directamente a un valor específico usando su clave y se puede usar casi cualquier tipo como clave."
   ]
  },
  {
   "cell_type": "code",
   "execution_count": 8,
   "metadata": {},
   "outputs": [
    {
     "name": "stdout",
     "output_type": "stream",
     "text": [
      "primer valor ['buzz', 'bar'] 23\n"
     ]
    }
   ],
   "source": [
    "a = {1:'primer valor', 'foo':['buzz', 'bar'], print: 23}\n",
    "print(a[1], a['foo'], a[print])\n"
   ]
  },
  {
   "cell_type": "markdown",
   "metadata": {},
   "source": [
    "#### Iteradores\n",
    "Los iteradores (*iterators*) producen los valores según los van necesitando. No tardan en inicializarse y no consumen memoria, pero sólo se puede acceder a los valores secuencialmente."
   ]
  },
  {
   "cell_type": "code",
   "execution_count": 31,
   "metadata": {},
   "outputs": [
    {
     "name": "stdout",
     "output_type": "stream",
     "text": [
      "0 1 2\n",
      "(0, 'foo') (1, 'buzz')\n",
      "('foo', 10) ('buzz', 20) ('bar', 30)\n"
     ]
    },
    {
     "ename": "StopIteration",
     "evalue": "",
     "output_type": "error",
     "traceback": [
      "\u001b[1;31m---------------------------------------------------------------------------\u001b[0m",
      "\u001b[1;31mStopIteration\u001b[0m                             Traceback (most recent call last)",
      "\u001b[1;32m<ipython-input-31-8089627e1542>\u001b[0m in \u001b[0;36m<module>\u001b[1;34m\u001b[0m\n\u001b[0;32m      9\u001b[0m \u001b[0mc\u001b[0m \u001b[1;33m=\u001b[0m \u001b[0mzip\u001b[0m\u001b[1;33m(\u001b[0m\u001b[0msomeList\u001b[0m\u001b[1;33m,\u001b[0m \u001b[0motherList\u001b[0m\u001b[1;33m)\u001b[0m\u001b[1;33m\u001b[0m\u001b[1;33m\u001b[0m\u001b[0m\n\u001b[0;32m     10\u001b[0m \u001b[0mprint\u001b[0m\u001b[1;33m(\u001b[0m\u001b[0mnext\u001b[0m\u001b[1;33m(\u001b[0m\u001b[0mc\u001b[0m\u001b[1;33m)\u001b[0m\u001b[1;33m,\u001b[0m \u001b[0mnext\u001b[0m\u001b[1;33m(\u001b[0m\u001b[0mc\u001b[0m\u001b[1;33m)\u001b[0m\u001b[1;33m,\u001b[0m \u001b[0mnext\u001b[0m\u001b[1;33m(\u001b[0m\u001b[0mc\u001b[0m\u001b[1;33m)\u001b[0m\u001b[1;33m)\u001b[0m\u001b[1;33m\u001b[0m\u001b[1;33m\u001b[0m\u001b[0m\n\u001b[1;32m---> 11\u001b[1;33m \u001b[0mprint\u001b[0m\u001b[1;33m(\u001b[0m\u001b[0mnext\u001b[0m\u001b[1;33m(\u001b[0m\u001b[0mc\u001b[0m\u001b[1;33m)\u001b[0m\u001b[1;33m)\u001b[0m\u001b[1;33m\u001b[0m\u001b[1;33m\u001b[0m\u001b[0m\n\u001b[0m",
      "\u001b[1;31mStopIteration\u001b[0m: "
     ]
    }
   ],
   "source": [
    "a = iter(range(0, 10))\n",
    "print(next(a), next(a), next(a))\n",
    "\n",
    "someList = ['foo', 'buzz', 'bar']\n",
    "b = enumerate(someList)\n",
    "print(next(b), next(b))\n",
    "\n",
    "otherList = [10, 20, 30]\n",
    "c = zip(someList, otherList)\n",
    "print(next(c), next(c), next(c))\n",
    "print(next(c))"
   ]
  },
  {
   "cell_type": "markdown",
   "metadata": {},
   "source": [
    "### Numpy.array\n",
    "Los arrays de numpy no pertenecen a la libreria estandar, pero son practicamente indispensables para cualquier cálculo numérico y, además, se parecen mucho a las matrices de Matlab, así que los discutiremos brevemente.\n",
    "\n",
    "Este tipo de datos se encuentra definido en la libreria _numpy_ así que lo primero es importar dicha libreria (suponiendo que ya la tenemos instalada)"
   ]
  },
  {
   "cell_type": "code",
   "execution_count": 34,
   "metadata": {},
   "outputs": [],
   "source": [
    "import numpy"
   ]
  },
  {
   "cell_type": "markdown",
   "metadata": {},
   "source": [
    "Podemos inicializarlos pasando una lista/tupla al constructor (sólo admite datos numericos o booleanos) o mediante _numpy.zeros(\\)_\\, _numpy.ones(\\)_"
   ]
  },
  {
   "cell_type": "code",
   "execution_count": 48,
   "metadata": {},
   "outputs": [
    {
     "name": "stdout",
     "output_type": "stream",
     "text": [
      "[1 2 3]\n",
      "[[1 2]\n",
      " [1 2]\n",
      " [1 2]]\n",
      "\n",
      "[[0. 0. 0. 0.]\n",
      " [0. 0. 0. 0.]\n",
      " [0. 0. 0. 0.]]\n",
      "[[1. 1.]\n",
      " [1. 1.]\n",
      " [1. 1.]\n",
      " [1. 1.]]\n"
     ]
    }
   ],
   "source": [
    "arr1D = numpy.array([1,2,3])\n",
    "arr2D = numpy.array(((1,2),(1,2),(1,2)))\n",
    "print(arr1D)\n",
    "print(arr2D)\n",
    "print()\n",
    "print(numpy.zeros([3,4]))\n",
    "print(numpy.ones((4,2)))"
   ]
  },
  {
   "cell_type": "markdown",
   "metadata": {},
   "source": [
    "Podemos acceder a elementos individuales mediante sus indices o a subconjuntos mediante slices.  \n",
    "Para arrays bidimensionales el primer indice representa la fila y el segundo la columna "
   ]
  },
  {
   "cell_type": "code",
   "execution_count": 35,
   "metadata": {},
   "outputs": [
    {
     "name": "stdout",
     "output_type": "stream",
     "text": [
      "[[1 2]\n",
      " [3 4]\n",
      " [5 6]]\n",
      "\n",
      "6\n",
      "\n",
      "[1 3 5]\n",
      "\n",
      "[[1 2]\n",
      " [3 4]]\n"
     ]
    }
   ],
   "source": [
    "a = numpy.array([[1,2],[3,4],[5,6]])\n",
    "print(a)\n",
    "print()\n",
    "print(a[2,1])\n",
    "print()\n",
    "print(a[:,0])\n",
    "print()\n",
    "print(a[0:2,:])"
   ]
  },
  {
   "cell_type": "markdown",
   "metadata": {},
   "source": [
    "Aunque estos arrays se parecen a las listas, operan de manera distinta.  \n",
    "Las operaciones con escalares se aplican a todos los elementos por igual:"
   ]
  },
  {
   "cell_type": "code",
   "execution_count": 37,
   "metadata": {},
   "outputs": [
    {
     "name": "stdout",
     "output_type": "stream",
     "text": [
      "[[3. 3. 3.]\n",
      " [3. 3. 3.]]\n",
      "[5. 5. 5. 5. 5.]\n"
     ]
    }
   ],
   "source": [
    "a = numpy.zeros([2,3])\n",
    "print(a+3)\n",
    "b = numpy.ones([5])\n",
    "print(b*5)"
   ]
  },
  {
   "cell_type": "markdown",
   "metadata": {},
   "source": [
    "Las operaciones entre arrays se aplican entre elementos con los mismos indices:"
   ]
  },
  {
   "cell_type": "code",
   "execution_count": null,
   "metadata": {},
   "outputs": [],
   "source": [
    "a = numpy.array([[1,2,3],[4,5,6]])\n",
    "b = numpy.array([[10,20,30], [40,50,60]])\n",
    "print(a+b)"
   ]
  },
  {
   "cell_type": "markdown",
   "metadata": {},
   "source": [
    "Además, los propios arrays implementan otras operaciones matriciales:"
   ]
  },
  {
   "cell_type": "code",
   "execution_count": 46,
   "metadata": {},
   "outputs": [
    {
     "name": "stdout",
     "output_type": "stream",
     "text": [
      "[[1 2 3]\n",
      " [4 5 6]]\n",
      "\n",
      "6 [5 7 9]\n",
      "\n",
      "[[1 4]\n",
      " [2 5]\n",
      " [3 6]]\n"
     ]
    }
   ],
   "source": [
    "a = numpy.array([[1,2,3],[4,5,6]])\n",
    "print(a)\n",
    "print()\n",
    "print(a.max(), a.sum(axis=0))\n",
    "print()\n",
    "print(a.transpose())"
   ]
  },
  {
   "cell_type": "markdown",
   "metadata": {},
   "source": [
    "## Operadores\n",
    "Python implementa los operadores típicos y funcionan como cabría esperar, aunque algunas clases sobrecargan operadores como hemos visto con las listas o los arrays de numpy.\n",
    "### Matemáticos\n",
    "Además de los típicos tenemos la potencia, division entera y modulo"
   ]
  },
  {
   "cell_type": "code",
   "execution_count": 51,
   "metadata": {},
   "outputs": [
    {
     "name": "stdout",
     "output_type": "stream",
     "text": [
      "8 9\n",
      "2.5 2\n",
      "2 0\n"
     ]
    }
   ],
   "source": [
    "print(2**3, 3**2)\n",
    "print(5/2, 5//2)\n",
    "print(8%3, 14%7)"
   ]
  },
  {
   "cell_type": "markdown",
   "metadata": {},
   "source": [
    "### Lógicos\n",
    "*None*, *0* y los contenedores vacios se consideran *False*. Todo lo demás se considera *True*"
   ]
  },
  {
   "cell_type": "code",
   "execution_count": 85,
   "metadata": {},
   "outputs": [
    {
     "name": "stdout",
     "output_type": "stream",
     "text": [
      "False\n",
      "True False True\n",
      "False True\n",
      "\n",
      "True False False\n",
      "True True False\n",
      "False\n"
     ]
    }
   ],
   "source": [
    "print(bool(None))\n",
    "print(bool(-1), bool(0), bool(1))\n",
    "print(bool([]), bool([None]))\n",
    "print()\n",
    "print(True and True, True and False, False and False, )\n",
    "print(True or True, True or False, False or False)\n",
    "print(not True)"
   ]
  },
  {
   "cell_type": "markdown",
   "metadata": {},
   "source": [
    "Los iterables se consideran iguales si todos sus elementos son iguales"
   ]
  },
  {
   "cell_type": "code",
   "execution_count": 73,
   "metadata": {},
   "outputs": [
    {
     "name": "stdout",
     "output_type": "stream",
     "text": [
      "True False\n",
      "\n",
      "False\n",
      "False\n",
      "False\n"
     ]
    }
   ],
   "source": [
    "print((1,2,3)==(1,2,3), (1,2,3)!=(1,2,3))\n",
    "print()\n",
    "print([1,2,3]==(1,2,3))\n",
    "print((1,2,3)==(1,2,3,4))\n",
    "print((1,2,3)==(1,2,4))"
   ]
  },
  {
   "cell_type": "markdown",
   "metadata": {},
   "source": [
    "Para ordenarlos se comparan los elementos de izquierda a derecha"
   ]
  },
  {
   "cell_type": "code",
   "execution_count": 75,
   "metadata": {},
   "outputs": [
    {
     "name": "stdout",
     "output_type": "stream",
     "text": [
      "True\n",
      "False\n"
     ]
    }
   ],
   "source": [
    "print((1,2,3)<(1,2,4))\n",
    "print((2,2,3)<(1,2,4))"
   ]
  },
  {
   "cell_type": "markdown",
   "metadata": {},
   "source": [
    "Los arrays de numpy sin embargo devuelven otro array con los resultados de cada comparación elemento a elemento"
   ]
  },
  {
   "cell_type": "code",
   "execution_count": 79,
   "metadata": {},
   "outputs": [
    {
     "name": "stdout",
     "output_type": "stream",
     "text": [
      "[ True  True  True]\n",
      "[False False  True]\n"
     ]
    }
   ],
   "source": [
    "print(numpy.array((1,2,3))==numpy.array((1,2,3)))\n",
    "print(numpy.array((2,2,3)) < numpy.array((1,2,4)))"
   ]
  },
  {
   "cell_type": "markdown",
   "metadata": {},
   "source": [
    "## Control del flujo\n",
    "Los bloques de codigo se delimitan mediante la indentacíon. Cada vez que entramos en un bloque aumentamos un nivel de indentación y cada vez que salimos lo decrementamos."
   ]
  },
  {
   "cell_type": "markdown",
   "metadata": {},
   "source": [
    "### Condicionales\n",
    "Las condicionales funcionan igual que en otros lenguajes, aunque *else if* se contrae como *elif*"
   ]
  },
  {
   "cell_type": "code",
   "execution_count": 109,
   "metadata": {
    "scrolled": true
   },
   "outputs": [
    {
     "name": "stdout",
     "output_type": "stream",
     "text": [
      "Introduce un entero: 1\n",
      "Mayor que cero\n"
     ]
    }
   ],
   "source": [
    "a = int(input('Introduce un entero: '))\n",
    "if a<0:\n",
    "    print('Menor que cero')\n",
    "elif a==0:\n",
    "    print('Igual a cero')\n",
    "else:\n",
    "    print('Mayor que cero')"
   ]
  },
  {
   "cell_type": "markdown",
   "metadata": {},
   "source": [
    "### Bucles\n",
    "#### Bucle indefinido (*while*)\n",
    "El bucle se repite mientras la condicion sea cierta"
   ]
  },
  {
   "cell_type": "code",
   "execution_count": 92,
   "metadata": {},
   "outputs": [
    {
     "name": "stdout",
     "output_type": "stream",
     "text": [
      "1\n",
      "2\n",
      "3\n",
      "4\n",
      "5\n"
     ]
    }
   ],
   "source": [
    "i = 1\n",
    "while i < 6:\n",
    "    print(i)\n",
    "    i += 1 "
   ]
  },
  {
   "cell_type": "markdown",
   "metadata": {},
   "source": [
    "Con *break* podemos salir del bucle prematuramente"
   ]
  },
  {
   "cell_type": "code",
   "execution_count": 90,
   "metadata": {},
   "outputs": [
    {
     "name": "stdout",
     "output_type": "stream",
     "text": [
      "1\n",
      "2\n",
      "3\n"
     ]
    }
   ],
   "source": [
    "i = 1\n",
    "while i < 6:\n",
    "  print(i)\n",
    "  if i == 3:\n",
    "    break\n",
    "  i += 1 "
   ]
  },
  {
   "cell_type": "markdown",
   "metadata": {},
   "source": [
    "Con *continue* terminamos la iteración actual"
   ]
  },
  {
   "cell_type": "code",
   "execution_count": 93,
   "metadata": {},
   "outputs": [
    {
     "name": "stdout",
     "output_type": "stream",
     "text": [
      "1\n",
      "2\n",
      "4\n",
      "5\n",
      "6\n"
     ]
    }
   ],
   "source": [
    "i = 0\n",
    "while i < 6:\n",
    "  i += 1\n",
    "  if i == 3:\n",
    "    continue\n",
    "  print(i)"
   ]
  },
  {
   "cell_type": "markdown",
   "metadata": {},
   "source": [
    "#### Bucle sobre secuencias (*for*)\n",
    "Al bucle for le pasamos un iterable y nos da un elemento de dicho iterable en cada iteración"
   ]
  },
  {
   "cell_type": "code",
   "execution_count": 110,
   "metadata": {},
   "outputs": [
    {
     "name": "stdout",
     "output_type": "stream",
     "text": [
      "apple\n",
      "banana\n",
      "cherry\n"
     ]
    }
   ],
   "source": [
    "fruits = ['apple', 'banana', 'cherry']\n",
    "for x in fruits:\n",
    "  print(x)"
   ]
  },
  {
   "cell_type": "markdown",
   "metadata": {},
   "source": [
    "Si queremos recorrer una secuencia de numeros lo típico es usar *range*"
   ]
  },
  {
   "cell_type": "code",
   "execution_count": 111,
   "metadata": {},
   "outputs": [
    {
     "name": "stdout",
     "output_type": "stream",
     "text": [
      "0\n",
      "1\n",
      "8\n",
      "27\n",
      "64\n"
     ]
    }
   ],
   "source": [
    "for i in range(0,5):\n",
    "    print(i**3)"
   ]
  },
  {
   "cell_type": "markdown",
   "metadata": {},
   "source": [
    "Si queremos el elemento y su indice podemos usar *enumerate*"
   ]
  },
  {
   "cell_type": "code",
   "execution_count": 112,
   "metadata": {},
   "outputs": [
    {
     "name": "stdout",
     "output_type": "stream",
     "text": [
      "0 apple\n",
      "1 banana\n",
      "2 cherry\n"
     ]
    }
   ],
   "source": [
    "fruits = ['apple', 'banana', 'cherry']\n",
    "for i, value in enumerate(fruits):\n",
    "    print(i, value)"
   ]
  },
  {
   "cell_type": "markdown",
   "metadata": {},
   "source": [
    "Y para trabajar con los pares clave-valor de un diccionario usamos su función *items*"
   ]
  },
  {
   "cell_type": "code",
   "execution_count": 105,
   "metadata": {},
   "outputs": [
    {
     "name": "stdout",
     "output_type": "stream",
     "text": [
      "color blue\n",
      "fruit apple\n",
      "pet dog\n"
     ]
    }
   ],
   "source": [
    "myDict = {'color': 'blue', 'fruit': 'apple', 'pet': 'dog'}\n",
    "for k, v in myDict.items():\n",
    "    print(k, v)"
   ]
  },
  {
   "cell_type": "markdown",
   "metadata": {},
   "source": [
    "Por último, ambos bucles les podemos añadir un bloque *else* que no se ejecuta si salimos usando *break*"
   ]
  },
  {
   "cell_type": "code",
   "execution_count": 107,
   "metadata": {},
   "outputs": [
    {
     "name": "stdout",
     "output_type": "stream",
     "text": [
      "Enter password: asdf\n",
      "Enter password: secret\n",
      "You guessed the password!\n"
     ]
    }
   ],
   "source": [
    "for i in range(3):\n",
    "    password = input('Enter password: ')\n",
    "    if password == 'secret':\n",
    "        print('You guessed the password!')\n",
    "        break\n",
    "else:\n",
    "    print('3 incorrect password attempts')"
   ]
  },
  {
   "cell_type": "markdown",
   "metadata": {},
   "source": [
    "### \n",
    "### try, except, else, finally\n"
   ]
  },
  {
   "cell_type": "markdown",
   "metadata": {},
   "source": [
    "### with, \\_\\_enter\\_\\_, \\_\\_exit\\_\\_"
   ]
  },
  {
   "cell_type": "markdown",
   "metadata": {},
   "source": [
    "\n",
    "## List comprehensions\n",
    "\n",
    "## Funciones\n",
    "### Definición de funciones\n",
    "  - pass\n",
    "  - Default values, positional/keyword arguments\n",
    "  - args, kwargs\n",
    "  - Doc strings\n",
    "### Funciones como variables\n",
    "  - Lambda expressions\n",
    "  - Closures\n",
    "\n",
    "## Clases\n",
    "### Definición\n",
    "  - \\_\\_init\\_\\_, \\_\\_del\\_\\_\n",
    "  - Miembros privados\n",
    "  - variables estáticas (ojo)\n",
    "### Herencia\n",
    "  - super()\n",
    "  - @classmethod\n",
    "  - @staticmethod"
   ]
  },
  {
   "cell_type": "code",
   "execution_count": 6,
   "metadata": {},
   "outputs": [
    {
     "data": {
      "text/plain": [
       "[0, 1, 2, 3, 4, 5, 6, 7, 8, 9]"
      ]
     },
     "execution_count": 6,
     "metadata": {},
     "output_type": "execute_result"
    }
   ],
   "source": [
    "list(range(0,10))"
   ]
  },
  {
   "cell_type": "code",
   "execution_count": 103,
   "metadata": {},
   "outputs": [
    {
     "ename": "IndexError",
     "evalue": "list assignment index out of range",
     "output_type": "error",
     "traceback": [
      "\u001b[1;31m---------------------------------------------------------------------------\u001b[0m",
      "\u001b[1;31mIndexError\u001b[0m                                Traceback (most recent call last)",
      "\u001b[1;32m<ipython-input-103-29acd9b7464b>\u001b[0m in \u001b[0;36m<module>\u001b[1;34m\u001b[0m\n\u001b[0;32m      1\u001b[0m \u001b[0ma\u001b[0m \u001b[1;33m=\u001b[0m \u001b[1;33m[\u001b[0m\u001b[1;33m]\u001b[0m\u001b[1;33m\u001b[0m\u001b[1;33m\u001b[0m\u001b[0m\n\u001b[1;32m----> 2\u001b[1;33m \u001b[0ma\u001b[0m\u001b[1;33m[\u001b[0m\u001b[1;36m0\u001b[0m\u001b[1;33m]\u001b[0m \u001b[1;33m=\u001b[0m \u001b[1;36m0\u001b[0m\u001b[1;33m\u001b[0m\u001b[1;33m\u001b[0m\u001b[0m\n\u001b[0m",
      "\u001b[1;31mIndexError\u001b[0m: list assignment index out of range"
     ]
    }
   ],
   "source": [
    "a = []\n",
    "a[0] = 0"
   ]
  },
  {
   "cell_type": "code",
   "execution_count": 114,
   "metadata": {},
   "outputs": [],
   "source": [
    "import myModule"
   ]
  },
  {
   "cell_type": "code",
   "execution_count": 115,
   "metadata": {},
   "outputs": [
    {
     "data": {
      "text/plain": [
       "<function myModule.someFunction(a, b)>"
      ]
     },
     "execution_count": 115,
     "metadata": {},
     "output_type": "execute_result"
    }
   ],
   "source": [
    "myModule.someFunction"
   ]
  },
  {
   "cell_type": "code",
   "execution_count": 119,
   "metadata": {},
   "outputs": [
    {
     "data": {
      "text/plain": [
       "42"
      ]
     },
     "execution_count": 119,
     "metadata": {},
     "output_type": "execute_result"
    }
   ],
   "source": [
    "myModule.someVariable"
   ]
  },
  {
   "cell_type": "code",
   "execution_count": 122,
   "metadata": {},
   "outputs": [
    {
     "name": "stdout",
     "output_type": "stream",
     "text": [
      "Help on module myModule:\n",
      "\n",
      "NAME\n",
      "    myModule\n",
      "\n",
      "CLASSES\n",
      "    builtins.object\n",
      "        someClass\n",
      "    \n",
      "    class someClass(builtins.object)\n",
      "     |  someClass(value)\n",
      "     |  \n",
      "     |  Methods defined here:\n",
      "     |  \n",
      "     |  __init__(self, value)\n",
      "     |      Initialize self.  See help(type(self)) for accurate signature.\n",
      "     |  \n",
      "     |  getValue(self)\n",
      "     |  \n",
      "     |  ----------------------------------------------------------------------\n",
      "     |  Data descriptors defined here:\n",
      "     |  \n",
      "     |  __dict__\n",
      "     |      dictionary for instance variables (if defined)\n",
      "     |  \n",
      "     |  __weakref__\n",
      "     |      list of weak references to the object (if defined)\n",
      "\n",
      "FUNCTIONS\n",
      "    someFunction(a, b)\n",
      "\n",
      "DATA\n",
      "    someVariable = 42\n",
      "\n",
      "FILE\n",
      "    d:\\cogollo\\documents\\projects\\dio2project\\cursodio2\\mymodule.py\n",
      "\n",
      "\n"
     ]
    }
   ],
   "source": [
    "help(myModule)"
   ]
  },
  {
   "cell_type": "code",
   "execution_count": null,
   "metadata": {},
   "outputs": [],
   "source": []
  }
 ],
 "metadata": {
  "kernelspec": {
   "display_name": "Python 3",
   "language": "python",
   "name": "python3"
  },
  "language_info": {
   "codemirror_mode": {
    "name": "ipython",
    "version": 3
   },
   "file_extension": ".py",
   "mimetype": "text/x-python",
   "name": "python",
   "nbconvert_exporter": "python",
   "pygments_lexer": "ipython3",
   "version": "3.7.4"
  }
 },
 "nbformat": 4,
 "nbformat_minor": 2
}
