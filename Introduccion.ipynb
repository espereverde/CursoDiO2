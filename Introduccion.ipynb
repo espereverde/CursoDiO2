{
 "cells": [
  {
   "cell_type": "markdown",
   "metadata": {},
   "source": [
    "# Introduccion a Python\n",
    "---------------------"
   ]
  },
  {
   "cell_type": "markdown",
   "metadata": {},
   "source": [
    "## Qué es Python  \n",
    "\n",
    "[Python](https://www.geeksforgeeks.org/python-language-introduction/) es un lenguaje de alto nivel y propósito general diseñado inicialmente por Guido van Rossum en 1991. Es un lenguaje interpretado, lo que significa que no necesitamos compilar nuestro código, pero necesitaremos tener un intérprete para ejecutarlo."
   ]
  },
  {
   "cell_type": "markdown",
   "metadata": {},
   "source": [
    "## Versiones\n",
    "Actualmente hay dos versiones incompatibles entre sí: Python2 y Python3. En general se recomienda utilizar la versión 3, salvo que necesitemos alguna biblioteca antigua que solo funcione con Python2."
   ]
  },
  {
   "cell_type": "markdown",
   "metadata": {},
   "source": [
    "## Implementaciones\n",
    "Además, para cada versión tenemos distintas implementaciones del intérprete. Por ejemplo, para windows tenemos:\n",
    "\n",
    "\n",
    "- [CPython](https://en.wikipedia.org/wiki/CPython): Es la oficial y más habitual, implementada en C, todas las biblioteca.\n",
    "\n",
    "- [IronPython](https://ironpython.net/): Implementada en C#, pocas bibliotecas, pero compatible con .net.\n",
    "\n",
    "- [PyPy](https://pypy.org/): Implementada en Python, la más rápida, pero baja compatibilidad.\n",
    "\n",
    "Nosotros, al instalar la distribución de Anaconda, tenemos la implementación *CPython* de *Python3*."
   ]
  },
  {
   "cell_type": "markdown",
   "metadata": {},
   "source": [
    "## Estructura del curso\n",
    "-  [Python como lenguaje de programación](./Python%20como%20lenguaje.ipynb)"
   ]
  },
  {
   "cell_type": "code",
   "execution_count": null,
   "metadata": {},
   "outputs": [],
   "source": []
  }
 ],
 "metadata": {
  "kernelspec": {
   "display_name": "Python 3",
   "language": "python",
   "name": "python3"
  },
  "language_info": {
   "codemirror_mode": {
    "name": "ipython",
    "version": 3
   },
   "file_extension": ".py",
   "mimetype": "text/x-python",
   "name": "python",
   "nbconvert_exporter": "python",
   "pygments_lexer": "ipython3",
   "version": "3.7.4"
  }
 },
 "nbformat": 4,
 "nbformat_minor": 2
}
